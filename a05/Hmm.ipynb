{
  "nbformat": 4,
  "nbformat_minor": 0,
  "metadata": {
    "colab": {
      "name": "Hmm.ipynb",
      "provenance": []
    },
    "kernelspec": {
      "name": "python3",
      "display_name": "Python 3"
    },
    "language_info": {
      "name": "python"
    }
  },
  "cells": [
    {
      "cell_type": "code",
      "source": [
        "!pip install hmmlearn\n",
        "import hmmlearn.hmm as hmm\n",
        "import numpy as np\n",
        "import math"
      ],
      "metadata": {
        "colab": {
          "base_uri": "https://localhost:8080/"
        },
        "id": "hb5BbZSlVY5p",
        "outputId": "09fe81d1-4af9-48f6-ca79-6734a9ed4bc8"
      },
      "execution_count": 1,
      "outputs": [
        {
          "output_type": "stream",
          "name": "stdout",
          "text": [
            "Collecting hmmlearn\n",
            "  Downloading hmmlearn-0.2.6-cp37-cp37m-manylinux_2_5_x86_64.manylinux1_x86_64.whl (374 kB)\n",
            "\u001b[?25l\r\u001b[K     |▉                               | 10 kB 20.2 MB/s eta 0:00:01\r\u001b[K     |█▊                              | 20 kB 6.4 MB/s eta 0:00:01\r\u001b[K     |██▋                             | 30 kB 8.7 MB/s eta 0:00:01\r\u001b[K     |███▌                            | 40 kB 10.9 MB/s eta 0:00:01\r\u001b[K     |████▍                           | 51 kB 10.3 MB/s eta 0:00:01\r\u001b[K     |█████▎                          | 61 kB 11.6 MB/s eta 0:00:01\r\u001b[K     |██████▏                         | 71 kB 11.0 MB/s eta 0:00:01\r\u001b[K     |███████                         | 81 kB 12.1 MB/s eta 0:00:01\r\u001b[K     |███████▉                        | 92 kB 12.1 MB/s eta 0:00:01\r\u001b[K     |████████▊                       | 102 kB 11.8 MB/s eta 0:00:01\r\u001b[K     |█████████▋                      | 112 kB 11.8 MB/s eta 0:00:01\r\u001b[K     |██████████▌                     | 122 kB 11.8 MB/s eta 0:00:01\r\u001b[K     |███████████▍                    | 133 kB 11.8 MB/s eta 0:00:01\r\u001b[K     |████████████▎                   | 143 kB 11.8 MB/s eta 0:00:01\r\u001b[K     |█████████████▏                  | 153 kB 11.8 MB/s eta 0:00:01\r\u001b[K     |██████████████                  | 163 kB 11.8 MB/s eta 0:00:01\r\u001b[K     |██████████████▉                 | 174 kB 11.8 MB/s eta 0:00:01\r\u001b[K     |███████████████▊                | 184 kB 11.8 MB/s eta 0:00:01\r\u001b[K     |████████████████▋               | 194 kB 11.8 MB/s eta 0:00:01\r\u001b[K     |█████████████████▌              | 204 kB 11.8 MB/s eta 0:00:01\r\u001b[K     |██████████████████▍             | 215 kB 11.8 MB/s eta 0:00:01\r\u001b[K     |███████████████████▎            | 225 kB 11.8 MB/s eta 0:00:01\r\u001b[K     |████████████████████            | 235 kB 11.8 MB/s eta 0:00:01\r\u001b[K     |█████████████████████           | 245 kB 11.8 MB/s eta 0:00:01\r\u001b[K     |█████████████████████▉          | 256 kB 11.8 MB/s eta 0:00:01\r\u001b[K     |██████████████████████▊         | 266 kB 11.8 MB/s eta 0:00:01\r\u001b[K     |███████████████████████▋        | 276 kB 11.8 MB/s eta 0:00:01\r\u001b[K     |████████████████████████▌       | 286 kB 11.8 MB/s eta 0:00:01\r\u001b[K     |█████████████████████████▍      | 296 kB 11.8 MB/s eta 0:00:01\r\u001b[K     |██████████████████████████▎     | 307 kB 11.8 MB/s eta 0:00:01\r\u001b[K     |███████████████████████████     | 317 kB 11.8 MB/s eta 0:00:01\r\u001b[K     |████████████████████████████    | 327 kB 11.8 MB/s eta 0:00:01\r\u001b[K     |████████████████████████████▉   | 337 kB 11.8 MB/s eta 0:00:01\r\u001b[K     |█████████████████████████████▊  | 348 kB 11.8 MB/s eta 0:00:01\r\u001b[K     |██████████████████████████████▋ | 358 kB 11.8 MB/s eta 0:00:01\r\u001b[K     |███████████████████████████████▌| 368 kB 11.8 MB/s eta 0:00:01\r\u001b[K     |████████████████████████████████| 374 kB 11.8 MB/s \n",
            "\u001b[?25hRequirement already satisfied: numpy>=1.10 in /usr/local/lib/python3.7/dist-packages (from hmmlearn) (1.19.5)\n",
            "Requirement already satisfied: scipy>=0.19 in /usr/local/lib/python3.7/dist-packages (from hmmlearn) (1.4.1)\n",
            "Requirement already satisfied: scikit-learn>=0.16 in /usr/local/lib/python3.7/dist-packages (from hmmlearn) (1.0.2)\n",
            "Requirement already satisfied: joblib>=0.11 in /usr/local/lib/python3.7/dist-packages (from scikit-learn>=0.16->hmmlearn) (1.1.0)\n",
            "Requirement already satisfied: threadpoolctl>=2.0.0 in /usr/local/lib/python3.7/dist-packages (from scikit-learn>=0.16->hmmlearn) (3.1.0)\n",
            "Installing collected packages: hmmlearn\n",
            "Successfully installed hmmlearn-0.2.6\n"
          ]
        }
      ]
    },
    {
      "cell_type": "code",
      "source": [
        "S = np.array([\"Source0\", \"Source1\"])\n",
        "V = np.array([\"OK\", \"NOT OK\"])\n",
        "A = np.array([[0.6, 0.4], [0.7, 0.3]])\n",
        "B = np.array([[0.9, 0.1], [0.95, 0.05]])\n",
        "init_pi = np.array([1.0, 0.0])\n",
        "steadystate_pi = np.array([0.42857142, 1 - 0.42857142])"
      ],
      "metadata": {
        "id": "TZ6rpYaWWAcU"
      },
      "execution_count": 33,
      "outputs": []
    },
    {
      "cell_type": "code",
      "source": [
        "possible_traces = np.array([[0,0,0],[0,0,1],[0,1,0],[0,1,1],[1,0,0],[1,0,1],[1,1,0],[1,1,1]])"
      ],
      "metadata": {
        "id": "QDpw1lAAXnPs"
      },
      "execution_count": 3,
      "outputs": []
    },
    {
      "cell_type": "code",
      "source": [
        "trace_dict =\t{\n",
        "  0: \"OK\",\n",
        "  1: \"Defective\"\n",
        "}"
      ],
      "metadata": {
        "id": "2H40X_uUOlSl"
      },
      "execution_count": 4,
      "outputs": []
    },
    {
      "cell_type": "code",
      "source": [
        "model = hmm.MultinomialHMM(n_components=2)\n",
        "model.transmat_ = A\n",
        "model.emissionprob_ = B\n",
        "model.startprob_ = init_pi\n",
        "\n",
        "max = 0\n",
        "for x in possible_traces:\n",
        "  log_prob = model.score(np.array([x]))\n",
        "  prob = math.exp(log_prob)\n",
        "  if prob > max:\n",
        "    max = prob\n",
        "    trace = np.array(x)\n"
      ],
      "metadata": {
        "id": "c3EPMcvzFE4b"
      },
      "execution_count": 5,
      "outputs": []
    },
    {
      "cell_type": "code",
      "source": [
        "print(\"Most likely sequence of wafer test results in the first three steps: \")\n",
        "for x in trace:\n",
        "  print(trace_dict[x])\n",
        "print(\"With probability: {}\".format(max))"
      ],
      "metadata": {
        "colab": {
          "base_uri": "https://localhost:8080/"
        },
        "id": "INrwMK1cH8H8",
        "outputId": "a64cf7af-fdc9-46fe-caa7-59172d55f0db"
      },
      "execution_count": 7,
      "outputs": [
        {
          "output_type": "stream",
          "name": "stdout",
          "text": [
            "Most likely sequence of wafer test results in the first three steps: \n",
            "OK\n",
            "OK\n",
            "OK\n",
            "With probability: 0.76005\n"
          ]
        }
      ]
    },
    {
      "cell_type": "code",
      "source": [
        "log_prob = model.score(np.array([[1,1,1]]))\n",
        "prob = math.exp(log_prob)\n",
        "print(\"Probability for trace(defective, defective, defective) in first 3 steps: {}\".format(prob))"
      ],
      "metadata": {
        "colab": {
          "base_uri": "https://localhost:8080/"
        },
        "id": "XAEullurULWt",
        "outputId": "1c6e9184-d451-453a-a4ff-63eea5dfd3ce"
      },
      "execution_count": 13,
      "outputs": [
        {
          "output_type": "stream",
          "name": "stdout",
          "text": [
            "Probability for trace(defective, defective, defective) in first 3 steps: 0.0006500000000000003\n"
          ]
        }
      ]
    },
    {
      "cell_type": "code",
      "source": [
        "model.startprob_ = steadystate_pi\n",
        "log_prob = model.score(np.array([[1,1,1]]))\n",
        "prob = math.exp(log_prob)\n",
        "print(\"Probability for trace(defective, defective, defective) in steady state: {}\".format(prob))"
      ],
      "metadata": {
        "colab": {
          "base_uri": "https://localhost:8080/"
        },
        "id": "g54woBl1VIJB",
        "outputId": "e7621640-16a9-4f3a-c718-c1e2db296753"
      },
      "execution_count": 20,
      "outputs": [
        {
          "output_type": "stream",
          "name": "stdout",
          "text": [
            "Probability for trace(defective, defective, defective) in steady state: 0.00047499999737500044\n"
          ]
        }
      ]
    },
    {
      "cell_type": "code",
      "source": [
        "model.startprob_ = init_pi\n",
        "log_prob, possible_trace = model.decode(np.array([[0,0,0]]), algorithm=\"viterbi\")\n",
        "print(\"Most likely source path for testing three wafers OK in a row (trace: OK, OK, OK) in first 3 steps: {}\".format(possible_trace))"
      ],
      "metadata": {
        "colab": {
          "base_uri": "https://localhost:8080/"
        },
        "id": "_d-hlnwmWYtJ",
        "outputId": "899cdb48-471b-4a24-fe23-d0dcb81996eb"
      },
      "execution_count": 37,
      "outputs": [
        {
          "output_type": "stream",
          "name": "stdout",
          "text": [
            "Most likely source path for testing three wafers OK in a row (trace: OK, OK, OK) in first 3 steps: [0 0 0]\n"
          ]
        }
      ]
    },
    {
      "cell_type": "code",
      "source": [
        "model.startprob_ = steadystate_pi\n",
        "log_prob, possible_trace = model.decode(np.array([[0,0,0]]), algorithm=\"viterbi\")\n",
        "print(\"Most likely source path for testing three wafers OK in a row (trace: OK, OK, OK) in steady state: {}\".format(possible_trace))"
      ],
      "metadata": {
        "colab": {
          "base_uri": "https://localhost:8080/"
        },
        "id": "8CBFf49DYYm2",
        "outputId": "65e36984-48ac-4efa-8658-432eee30f309"
      },
      "execution_count": 38,
      "outputs": [
        {
          "output_type": "stream",
          "name": "stdout",
          "text": [
            "Most likely source path for testing three wafers OK in a row (trace: OK, OK, OK) in steady state: [1 0 0]\n"
          ]
        }
      ]
    }
  ]
}